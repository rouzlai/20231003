{
  "nbformat": 4,
  "nbformat_minor": 0,
  "metadata": {
    "colab": {
      "provenance": []
    },
    "kernelspec": {
      "name": "python3",
      "display_name": "Python 3"
    },
    "language_info": {
      "name": "python"
    }
  },
  "cells": [
    {
      "cell_type": "code",
      "execution_count": null,
      "metadata": {
        "colab": {
          "base_uri": "https://localhost:8080/"
        },
        "id": "d-shKithOcEC",
        "outputId": "87c6b8be-e863-4cf1-8114-2a67d2683b0f"
      },
      "outputs": [
        {
          "output_type": "stream",
          "name": "stdout",
          "text": [
            "請輸入五個成績：99 90 95 96 98\n",
            "平均成績： 96.33333333333333\n"
          ]
        }
      ],
      "source": [
        "a = input(\"請輸入五個成績：\")\n",
        "b = a.split( )\n",
        "b = list(map(int,b))\n",
        "b.remove(max(b))\n",
        "b.remove(min(b))\n",
        "c = sum(b)/len(b)\n",
        "print(\"平均成績：\",c)"
      ]
    },
    {
      "cell_type": "code",
      "source": [
        "a = float(input(\"數字一：\"))\n",
        "b = float(input(\"數字二：\"))\n",
        "c = input(\"運算符號：\")\n",
        "if c == \"+\":\n",
        "  print(a+b)\n",
        "elif c == \"-\":\n",
        "  print(a-b)\n",
        "elif c == \"*\":\n",
        "  print(a*b)\n",
        "else:print(a/b)"
      ],
      "metadata": {
        "colab": {
          "base_uri": "https://localhost:8080/"
        },
        "id": "Ub3rnO9FR5Ua",
        "outputId": "3c9e4934-86d3-433b-ae13-1bd125cb8c4c"
      },
      "execution_count": null,
      "outputs": [
        {
          "output_type": "stream",
          "name": "stdout",
          "text": [
            "數字一：6\n",
            "數字二：13\n",
            "運算符號：+\n",
            "19.0\n"
          ]
        }
      ]
    },
    {
      "cell_type": "code",
      "source": [
        "a = input(\"請輸入年份：\")\n",
        "b = int(a)/4\n",
        "if int(a)<1582:\n",
        "  if b == int(b):\n",
        "    print(\"閏年\")\n",
        "  else:\n",
        "    print(\"平年\")\n",
        "else:\n",
        "  c = int(a)/100\n",
        "  d = int(a)/400\n",
        "  if b == int(b):\n",
        "    if c == int(c):\n",
        "      if d == int(d):\n",
        "        print(\"閏年\")\n",
        "      else:\n",
        "        print(\"平年\")\n",
        "    else:\n",
        "      print(\"閏年\")\n",
        "  else:\n",
        "    print(\"平年\")"
      ],
      "metadata": {
        "colab": {
          "base_uri": "https://localhost:8080/"
        },
        "id": "RfidUZuQTLNZ",
        "outputId": "9476d613-af1b-4265-ac77-d2af4831d57a"
      },
      "execution_count": null,
      "outputs": [
        {
          "output_type": "stream",
          "name": "stdout",
          "text": [
            "請輸入年份：2013\n",
            "平年\n"
          ]
        }
      ]
    }
  ]
}